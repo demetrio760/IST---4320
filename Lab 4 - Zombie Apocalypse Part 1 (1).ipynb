{
 "cells": [
  {
   "cell_type": "markdown",
   "id": "1f2edfb3",
   "metadata": {},
   "source": [
    "Lab xx - [Demetrio] [Marruffo]"
   ]
  },
  {
   "cell_type": "markdown",
   "id": "71a6fae4",
   "metadata": {},
   "source": [
    "Date - [Feb] [21] 2023"
   ]
  },
  {
   "cell_type": "code",
   "execution_count": 3,
   "id": "f45826c5",
   "metadata": {},
   "outputs": [],
   "source": [
    "#Load in libraries\n",
    "import re "
   ]
  },
  {
   "cell_type": "markdown",
   "id": "40622a05",
   "metadata": {},
   "source": [
    "Howdy hey lets started with the lab today!🤠 ... sorry 😔"
   ]
  },
  {
   "cell_type": "markdown",
   "id": "8983bdc6",
   "metadata": {},
   "source": [
    "The goal of this lab is to implement what you've learned this week about tuples and regex to survive a ~hypothetical~ zombie apocalypse."
   ]
  },
  {
   "cell_type": "markdown",
   "id": "e0083f39",
   "metadata": {},
   "source": [
    "Sometime in the year 2023...\n",
    "\n",
    "On your way to class you look out the car window to see a human that looks...ill. Being the good citizen you are, you stop to see whats wrong. As you approach them, they lunge forward aggressively and bite you. Moments later a gunshot from behind you can be heard and the..thing in front of you falls to the ground. \"You should probably be more careful\" a deep voice says angrily. You turn around to see a tall man clothed in what looks like a dozen layers of clothing and a mask holding a rifle. \"Did it get ya\"? Looking down you see a large red bite that appears to be growing on your arm. The man in horror, quickly pulls out a piece of paper in one of his jackets and hands it to you before running away. "
   ]
  },
  {
   "cell_type": "markdown",
   "id": "0f35f0ae",
   "metadata": {},
   "source": [
    "The note reads:\n",
    "\n",
    "Dr. Snowden\n",
    "We've finally done it. We got the perfect dose needed to culture the bacteria for years. We're sending it to corporate now for review. Great things are to come. Please call me as soon as possible.\n",
    "\n",
    "Dr. Sans\n",
    "Augmented Genetics Laboratory\n",
    "1489 Bayer Drive, San Francisco California\n",
    "Tel: 415-556-990\n",
    "Tel: 415-779-900"
   ]
  },
  {
   "cell_type": "markdown",
   "id": "596b9a2c",
   "metadata": {},
   "source": [
    "Tasks\n",
    "1. Use regex to extract the name \"Dr. Sans\" and the phone number \"415-556-990\" from the note and put the contact information into a dictionary\n",
    "2. Add the second number to the dictionary with the name John Doe\n",
    "3. Extract the names from the dictionary and put the in a tuple called \"names\"\n",
    "4. Extract the phone numbers from the dictionary and put the in a tuple called \"phoneNumbers\"\n",
    "5. Use the search(), match(), and findall() regex functions to extract new information from the note. \n",
    "\n",
    "Answer the following questions:\n",
    "1. Comapre and contrast tuples and lists\n",
    "2. What are some ways we can make tuples?\n",
    "3. How do we add elements to tuples?"
   ]
  },
  {
   "cell_type": "code",
   "execution_count": 13,
   "id": "e1a174ac",
   "metadata": {},
   "outputs": [],
   "source": [
    "note = '''Dr. Snowden weve finally done it. We got the perfect dose needed to culture the bacteria for years. We're sending it to corporate now for review. Great things are to come. Please call me as soon as possible. Tel: 415-779-900\n",
    "\n",
    "x = search.findall('Dr. Sans', note)\n",
    "y = search.findall('415-556-990', note)\n",
    "add y to dict as 'John Doe'\n",
    "extract(\"names\") from dict = tuple(names)\n",
    "extract(\"phone numbers\") from dict = tuple(phoneNumbers)\n",
    "search(,note)\n",
    "match(,note)\n",
    "findall(,note)\n",
    "\n",
    "#1. Tuples are workable functions while lists are stagnant values.\n",
    "#2. Tuples can be made in many ways, but they all come from extracting data.\n",
    "#3. You can add elements by \n",
    "\n",
    "Dr. Sans\n",
    "Augmented Genetics Laboratory\n",
    "1489 Bayer Drive, San Francisco California\n",
    "Tel: 415-556-990'''"
   ]
  },
  {
   "cell_type": "code",
   "execution_count": 16,
   "id": "93f2fe51",
   "metadata": {
    "scrolled": true
   },
   "outputs": [
    {
     "name": "stdout",
     "output_type": "stream",
     "text": [
      "['Dr. Sans', 'Dr. Sans'] ['415-556-990', '415-556-990']\n"
     ]
    }
   ],
   "source": [
    "\n",
    "\n",
    "x = re.findall('Dr. Sans', note)\n",
    "\n",
    "y = re.findall('415-556-990', note)\n",
    "\n",
    "print(x, y)"
   ]
  },
  {
   "cell_type": "code",
   "execution_count": 17,
   "id": "623926df",
   "metadata": {},
   "outputs": [],
   "source": [
    "contacts = {}"
   ]
  },
  {
   "cell_type": "code",
   "execution_count": 19,
   "id": "bc59ff85",
   "metadata": {},
   "outputs": [],
   "source": [
    "contacts[x[0]] = y[0]"
   ]
  },
  {
   "cell_type": "code",
   "execution_count": 20,
   "id": "fee8f139",
   "metadata": {},
   "outputs": [
    {
     "name": "stdout",
     "output_type": "stream",
     "text": [
      "{'Dr. Sans': '415-556-990'}\n"
     ]
    }
   ],
   "source": [
    "print(contacts)"
   ]
  },
  {
   "cell_type": "code",
   "execution_count": 21,
   "id": "22e8c254",
   "metadata": {},
   "outputs": [],
   "source": [
    "contacts['John Doe'] = '415-779-900'"
   ]
  },
  {
   "cell_type": "code",
   "execution_count": 22,
   "id": "11dd158f",
   "metadata": {},
   "outputs": [
    {
     "name": "stdout",
     "output_type": "stream",
     "text": [
      "{'Dr. Sans': '415-556-990', 'John Doe': '415-779-900'}\n"
     ]
    }
   ],
   "source": [
    "print(contacts)"
   ]
  },
  {
   "cell_type": "code",
   "execution_count": null,
   "id": "6324e120",
   "metadata": {},
   "outputs": [],
   "source": [
    "names = ['Dr. Sans', 'John Doe']\n",
    "\n",
    "phoneNumbers = ['415-558-990', '415-779-900']"
   ]
  },
  {
   "cell_type": "code",
   "execution_count": null,
   "id": "a2fac2c7",
   "metadata": {},
   "outputs": [],
   "source": [
    "name_match = re.search(r\"(?i)\\bjohn\\b\", data[\"name\"])\n",
    "age_match = re.match(r\"\\d+\", str(data[\"age\"]))\n",
    "email_matches = re.findall(r\"\\b\\w+@\\w+\\.\\w+\\b\", data[\"email\"])\n"
   ]
  }
 ],
 "metadata": {
  "kernelspec": {
   "display_name": "Python 3 (ipykernel)",
   "language": "python",
   "name": "python3"
  },
  "language_info": {
   "codemirror_mode": {
    "name": "ipython",
    "version": 3
   },
   "file_extension": ".py",
   "mimetype": "text/x-python",
   "name": "python",
   "nbconvert_exporter": "python",
   "pygments_lexer": "ipython3",
   "version": "3.9.12"
  }
 },
 "nbformat": 4,
 "nbformat_minor": 5
}
