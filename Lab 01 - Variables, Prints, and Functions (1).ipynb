{
 "cells": [
  {
   "cell_type": "markdown",
   "id": "b2263ed2",
   "metadata": {},
   "source": [
    "Lab xx - [Firstname][Lastname]"
   ]
  },
  {
   "cell_type": "markdown",
   "id": "37f2ec08",
   "metadata": {},
   "source": [
    "Date - [Month] [Day] 2023"
   ]
  },
  {
   "cell_type": "markdown",
   "id": "95d2eb2d",
   "metadata": {},
   "source": [
    "QUESTION 1"
   ]
  },
  {
   "cell_type": "code",
   "execution_count": null,
   "id": "967a94a4",
   "metadata": {},
   "outputs": [],
   "source": [
    "#Create a string variable named \"First\""
   ]
  },
  {
   "cell_type": "markdown",
   "id": "6ee861a1",
   "metadata": {},
   "source": [
    "QUESTION 2"
   ]
  },
  {
   "cell_type": "code",
   "execution_count": null,
   "id": "4fc5dbd6",
   "metadata": {},
   "outputs": [],
   "source": [
    "#Create a string variable named \"Last\""
   ]
  },
  {
   "cell_type": "markdown",
   "id": "f0c8f44f",
   "metadata": {},
   "source": [
    "QUESTION 3"
   ]
  },
  {
   "cell_type": "code",
   "execution_count": null,
   "id": "547cf02a",
   "metadata": {},
   "outputs": [],
   "source": [
    "#Create a integer variable named \"Year\""
   ]
  },
  {
   "cell_type": "markdown",
   "id": "bd5bda61",
   "metadata": {},
   "source": [
    "QUESTION 4"
   ]
  },
  {
   "cell_type": "code",
   "execution_count": null,
   "id": "7ce41892",
   "metadata": {},
   "outputs": [],
   "source": [
    "#Create an integer variable named \"pythonLevel\""
   ]
  },
  {
   "cell_type": "markdown",
   "id": "a5338424",
   "metadata": {},
   "source": [
    "QUESTION 5"
   ]
  },
  {
   "cell_type": "code",
   "execution_count": null,
   "id": "fe195366",
   "metadata": {},
   "outputs": [],
   "source": [
    "#Create an integer variable named \"rLevel\""
   ]
  },
  {
   "cell_type": "markdown",
   "id": "4d1544d5",
   "metadata": {},
   "source": [
    "QUESTION 6"
   ]
  },
  {
   "cell_type": "code",
   "execution_count": null,
   "id": "106a0a3d",
   "metadata": {},
   "outputs": [],
   "source": [
    "#Create a function named \"studentSurvey\" to set the variables to user input and print out their values."
   ]
  },
  {
   "cell_type": "markdown",
   "id": "65bd6288",
   "metadata": {},
   "source": [
    "QUESTION 7"
   ]
  },
  {
   "cell_type": "code",
   "execution_count": null,
   "id": "bd49d860",
   "metadata": {},
   "outputs": [],
   "source": [
    "#Create another function of your choice to do something else! \n",
    "#Your function should include atleast two NEW variables."
   ]
  },
  {
   "cell_type": "markdown",
   "id": "9e35ccee",
   "metadata": {},
   "source": [
    "QUESTION 8"
   ]
  },
  {
   "cell_type": "code",
   "execution_count": null,
   "id": "e2e6a54e",
   "metadata": {},
   "outputs": [],
   "source": [
    "#Explain your new function."
   ]
  },
  {
   "cell_type": "markdown",
   "id": "96174891",
   "metadata": {},
   "source": [
    "QUESTION 9"
   ]
  },
  {
   "cell_type": "code",
   "execution_count": null,
   "id": "0afcd2e7",
   "metadata": {},
   "outputs": [],
   "source": [
    "#Create another function of your choice to do something else! \n",
    "#Your function should include atleast two NEW variables."
   ]
  },
  {
   "cell_type": "markdown",
   "id": "cb9181d1",
   "metadata": {},
   "source": [
    "QUESTION 10"
   ]
  },
  {
   "cell_type": "code",
   "execution_count": null,
   "id": "6ed992e1",
   "metadata": {},
   "outputs": [],
   "source": [
    "#Explain your new function."
   ]
  }
 ],
 "metadata": {
  "kernelspec": {
   "display_name": "Python 3 (ipykernel)",
   "language": "python",
   "name": "python3"
  },
  "language_info": {
   "codemirror_mode": {
    "name": "ipython",
    "version": 3
   },
   "file_extension": ".py",
   "mimetype": "text/x-python",
   "name": "python",
   "nbconvert_exporter": "python",
   "pygments_lexer": "ipython3",
   "version": "3.9.12"
  }
 },
 "nbformat": 4,
 "nbformat_minor": 5
}
