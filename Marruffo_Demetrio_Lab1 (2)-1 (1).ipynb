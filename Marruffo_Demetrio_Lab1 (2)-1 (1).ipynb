{
 "cells": [
  {
   "cell_type": "markdown",
   "id": "b2263ed2",
   "metadata": {},
   "source": [
    "Lab 01 - Demetrio Marruffo"
   ]
  },
  {
   "cell_type": "markdown",
   "id": "37f2ec08",
   "metadata": {},
   "source": [
    "Date - Feb 6, 2023"
   ]
  },
  {
   "cell_type": "markdown",
   "id": "95d2eb2d",
   "metadata": {},
   "source": [
    "QUESTION 1"
   ]
  },
  {
   "cell_type": "code",
   "execution_count": null,
   "id": "967a94a4",
   "metadata": {},
   "outputs": [],
   "source": [
    "#Create a string variable named \"First\"\n",
    "First = \"string\""
   ]
  },
  {
   "cell_type": "markdown",
   "id": "6ee861a1",
   "metadata": {},
   "source": [
    "QUESTION 2"
   ]
  },
  {
   "cell_type": "code",
   "execution_count": null,
   "id": "4fc5dbd6",
   "metadata": {},
   "outputs": [],
   "source": [
    "#Create a string variable named \"Last\"\n",
    "Last = \"string\""
   ]
  },
  {
   "cell_type": "markdown",
   "id": "f0c8f44f",
   "metadata": {},
   "source": [
    "QUESTION 3"
   ]
  },
  {
   "cell_type": "code",
   "execution_count": null,
   "id": "547cf02a",
   "metadata": {},
   "outputs": [],
   "source": [
    "#Create a integer variable named \"Year\"\n",
    "Year = 1978"
   ]
  },
  {
   "cell_type": "markdown",
   "id": "bd5bda61",
   "metadata": {},
   "source": [
    "QUESTION 4"
   ]
  },
  {
   "cell_type": "code",
   "execution_count": null,
   "id": "7ce41892",
   "metadata": {},
   "outputs": [],
   "source": [
    "#Create an integer variable named \"pythonLevel\"\n",
    "pythonLevel = 1"
   ]
  },
  {
   "cell_type": "markdown",
   "id": "a5338424",
   "metadata": {},
   "source": [
    "QUESTION 5"
   ]
  },
  {
   "cell_type": "code",
   "execution_count": null,
   "id": "fe195366",
   "metadata": {},
   "outputs": [],
   "source": [
    "#Create an integer variable named \"rLevel\"\n",
    "rLevel = 1"
   ]
  },
  {
   "cell_type": "markdown",
   "id": "4d1544d5",
   "metadata": {},
   "source": [
    "QUESTION 6"
   ]
  },
  {
   "cell_type": "code",
   "execution_count": null,
   "id": "106a0a3d",
   "metadata": {},
   "outputs": [],
   "source": [
    "#Create a function named \"studentSurvey\" to set the variables to user input and print out their values.\n",
    "def studentSurvey():\n",
    "    First = input()\n",
    "    Last = input()\n",
    "    Year = input()\n",
    "    \n",
    "print(\"Enter first name\", First)\n",
    "print(\"Enter last name\", Last)\n",
    "print(\"Enter year\", Year)\n",
    "    "
   ]
  },
  {
   "cell_type": "markdown",
   "id": "65bd6288",
   "metadata": {},
   "source": [
    "QUESTION 7"
   ]
  },
  {
   "cell_type": "code",
   "execution_count": null,
   "id": "bd49d860",
   "metadata": {},
   "outputs": [],
   "source": [
    "#Create another function of your choice to do something else! \n",
    "#Your function should include atleast two NEW variables.\n",
    "def workerSurvey():\n",
    "    FavGame = input()\n",
    "    FavMovie = input()\n",
    "    FavFood = input()\n",
    "    \n",
    "print(\"Enter Your Favorite Game\", FavGame)\n",
    "print(\"Enter Your Favorite Movie\", FavMovie)\n",
    "print(\"Enter Your Favorite Food\", FavFood)"
   ]
  },
  {
   "cell_type": "markdown",
   "id": "9e35ccee",
   "metadata": {},
   "source": [
    "QUESTION 8"
   ]
  },
  {
   "cell_type": "code",
   "execution_count": null,
   "id": "e2e6a54e",
   "metadata": {},
   "outputs": [],
   "source": [
    "#Explain your new function.\n",
    "\n",
    "#Explanation:\n",
    "#This new function takes the input of a worker's favorite things and prints them to the console. "
   ]
  },
  {
   "cell_type": "markdown",
   "id": "96174891",
   "metadata": {},
   "source": [
    "QUESTION 9"
   ]
  },
  {
   "cell_type": "code",
   "execution_count": null,
   "id": "0afcd2e7",
   "metadata": {},
   "outputs": [],
   "source": [
    "#Create another function of your choice to do something else! \n",
    "#Your function should include atleast two NEW variables.\n",
    "def print_two_words():\n",
    "    word1 = input(\"Enter the first word: \")\n",
    "    word2 = input(\"Enter the second word: \")\n",
    "    print(word1 + \" \" + word2)"
   ]
  },
  {
   "cell_type": "markdown",
   "id": "cb9181d1",
   "metadata": {},
   "source": [
    "QUESTION 10"
   ]
  },
  {
   "cell_type": "code",
   "execution_count": null,
   "id": "6ed992e1",
   "metadata": {},
   "outputs": [],
   "source": [
    "#Explain your new function.\n",
    "#Explanation:\n",
    "#This new function takes two words as an input and prints them out to the terminal. "
   ]
  }
 ],
 "metadata": {
  "kernelspec": {
   "display_name": "Python 3 (ipykernel)",
   "language": "python",
   "name": "python3"
  },
  "language_info": {
   "codemirror_mode": {
    "name": "ipython",
    "version": 3
   },
   "file_extension": ".py",
   "mimetype": "text/x-python",
   "name": "python",
   "nbconvert_exporter": "python",
   "pygments_lexer": "ipython3",
   "version": "3.9.12"
  }
 },
 "nbformat": 4,
 "nbformat_minor": 5
}
