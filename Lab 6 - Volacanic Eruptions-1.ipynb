{
 "cells": [
  {
   "cell_type": "markdown",
   "id": "01c2b5d7-a197-46f8-b276-503d84467784",
   "metadata": {},
   "source": [
    "Lab 06 - [Demetrio] [Marruffo]"
   ]
  },
  {
   "cell_type": "markdown",
   "id": "23bd8d3a-d11f-42bb-b6b9-d1e6343056e4",
   "metadata": {},
   "source": [
    "Date - [March] [20] 2023"
   ]
  },
  {
   "cell_type": "markdown",
   "id": "b115c923-131e-4c7b-a9c8-66dc97723ebd",
   "metadata": {},
   "source": [
    "Howdy hey coyotay!🐺\n",
    "\n",
    "If you haven't already please go watch the lecture(s) from modules 4 (RegEx) and 6 (Web Scraping).\n",
    "\n",
    "In this week's lab you will be taking on the role of a student who decided to wait last minute to write his/hers research paper for science class...uh oh. The paper is due at midnight and it is currently 10:02pm.\n",
    "\n",
    "To get this assignment turned in on time you will need to:\n",
    "1. Perform webscraping on the following wikipedia webpage on various volcanic eruptions:\n",
    "   https://en.wikipedia.org/wiki/Types_of_volcanic_eruptions\n",
    "   \n",
    "2. Extract the sections on the following types of volcanic eruptions:\n",
    "   - Surtseyan\n",
    "   - Submarine\n",
    "   - Subglacial\n",
    "   \n",
    "3. Print these sections using the print() function\n",
    "\n",
    "Uh oh...you realized you will get in big trouble for plagiarizing...\n",
    "\n",
    "4. Use RegEx to change 5 sentences in each paragraph. \n",
    "\n",
    "Bet you won't get caught now 😉\n",
    "\n",
    "5. Write these modified paragraphs to a text file using Python\n",
    "----------------------------------------------------------------------------------|\n",
    "\n",
    "What to turn in:\n",
    "- Completed Python notebook (Make sure that your notebook shows output for each cell)\n",
    "- Text file containing the modified paragraphs from step 4"
   ]
  },
  {
   "cell_type": "markdown",
   "id": "474cb378-3956-46ba-9ece-05b8a6e57696",
   "metadata": {},
   "source": [
    "Write your code below ⬇️"
   ]
  },
  {
   "cell_type": "code",
   "execution_count": 10,
   "id": "8adca1a9-b4ad-4f2f-aa13-37fa1ed9c056",
   "metadata": {},
   "outputs": [
    {
     "name": "stdout",
     "output_type": "stream",
     "text": [
      "None\n",
      "None\n",
      "None\n"
     ]
    },
    {
     "ename": "AttributeError",
     "evalue": "'NoneType' object has no attribute 'get_text'",
     "output_type": "error",
     "traceback": [
      "\u001b[0;31m---------------------------------------------------------------------------\u001b[0m",
      "\u001b[0;31mAttributeError\u001b[0m                            Traceback (most recent call last)",
      "Input \u001b[0;32mIn [10]\u001b[0m, in \u001b[0;36m<cell line: 21>\u001b[0;34m()\u001b[0m\n\u001b[1;32m     19\u001b[0m \u001b[38;5;28mprint\u001b[39m(subglacialSection)\n\u001b[1;32m     21\u001b[0m \u001b[38;5;28;01mfor\u001b[39;00m paragraph \u001b[38;5;129;01min\u001b[39;00m surtseyanSection, submarineSection, subglacialSection:\n\u001b[0;32m---> 22\u001b[0m     text \u001b[38;5;241m=\u001b[39m \u001b[43mparagraph\u001b[49m\u001b[38;5;241;43m.\u001b[39;49m\u001b[43mget_text\u001b[49m()\n\u001b[1;32m     24\u001b[0m     \u001b[38;5;66;03m# Define the sentence pattern for splitting the paragraph into sentences\u001b[39;00m\n\u001b[1;32m     25\u001b[0m     sentence_pattern \u001b[38;5;241m=\u001b[39m \u001b[38;5;124mr\u001b[39m\u001b[38;5;124m'\u001b[39m\u001b[38;5;124m(?<!\u001b[39m\u001b[38;5;124m\\\u001b[39m\u001b[38;5;124mw\u001b[39m\u001b[38;5;124m\\\u001b[39m\u001b[38;5;124m.\u001b[39m\u001b[38;5;124m\\\u001b[39m\u001b[38;5;124mw.)(?<![A-Z][a-z]\u001b[39m\u001b[38;5;124m\\\u001b[39m\u001b[38;5;124m.)(?<=\u001b[39m\u001b[38;5;124m\\\u001b[39m\u001b[38;5;124m.|\u001b[39m\u001b[38;5;124m\\\u001b[39m\u001b[38;5;124m?)\u001b[39m\u001b[38;5;124m\\\u001b[39m\u001b[38;5;124ms\u001b[39m\u001b[38;5;124m'\u001b[39m\n",
      "\u001b[0;31mAttributeError\u001b[0m: 'NoneType' object has no attribute 'get_text'"
     ]
    }
   ],
   "source": [
    "import requests\n",
    "import re\n",
    "from bs4 import BeautifulSoup\n",
    "\n",
    "url = 'https://en.wikipedia.org/wiki/Types_of_volcanic_eruptions'\n",
    "\n",
    "response = requests.get(url)\n",
    "html_content = response.content\n",
    "\n",
    "soup = BeautifulSoup(html_content, 'html.parser')\n",
    "\n",
    "surtseyanSection = soup.find('div', {'class': 'mw-parser-output'}).p\n",
    "print(surtseyanSection)\n",
    "\n",
    "submarineSection = soup.find('div', {'class': 'mw-parser-output'}).p\n",
    "print(submarineSection)\n",
    "\n",
    "subglacialSection = soup.find('div', {'class': 'mw-parser-output'}).p\n",
    "print(subglacialSection)\n",
    "\n",
    "for paragraph in surtseyanSection, submarineSection, subglacialSection:\n",
    "    text = paragraph.get_text()\n",
    "\n",
    "    # Define the sentence pattern for splitting the paragraph into sentences\n",
    "    sentence_pattern = r'(?<!\\w\\.\\w.)(?<![A-Z][a-z]\\.)(?<=\\.|\\?)\\s'\n",
    "    \n",
    "    # Split the paragraph into sentences using regex\n",
    "    sentences = re.findall(sentence_pattern, text)\n",
    "    \n",
    "    # Change five sentences in each paragraph\n",
    "    for i in range(min(len(sentences), 5)):\n",
    "        sentence = sentences[i]\n",
    "        # Apply regex replacements or any desired modifications to the sentence\n",
    "        modified_sentence = sentence.replace(\"Python\", \"NewWord\")\n",
    "        \n",
    "        # Replace the original sentence with the modified sentence in the paragraph\n",
    "        text = text.replace(sentence, modified_sentence, 1)\n",
    "    \n",
    "    # Print the modified paragraph\n",
    "    print(text)\n",
    "    print(\"\\n---\\n\")\n",
    "    \n",
    "    with open(\"output.txt\", \"w\") as file:\n",
    "        # Write data to the file\n",
    "        file.write(text)"
   ]
  }
 ],
 "metadata": {
  "kernelspec": {
   "display_name": "Python 3 (ipykernel)",
   "language": "python",
   "name": "python3"
  },
  "language_info": {
   "codemirror_mode": {
    "name": "ipython",
    "version": 3
   },
   "file_extension": ".py",
   "mimetype": "text/x-python",
   "name": "python",
   "nbconvert_exporter": "python",
   "pygments_lexer": "ipython3",
   "version": "3.9.12"
  }
 },
 "nbformat": 4,
 "nbformat_minor": 5
}
