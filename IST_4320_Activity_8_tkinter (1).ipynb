{
 "cells": [
  {
   "attachments": {},
   "cell_type": "markdown",
   "id": "fa492466-854f-4bad-a21f-8b689a52863b",
   "metadata": {
    "tags": []
   },
   "source": [
    "# tkinter - Graphical User Interfaces (GUI) for Applications\n",
    "For this part, you must have a Desktop available to you! If you are using JupyterLab on the Pacific Research Platform, make sure you use the stack that has a Desktop in it!\n",
    "## Storing Data in a Database\n",
    "This is a quick way to create a SQL database using SQLite, a very basic database management system. It does NOT have all the features such as MySQL, but it'll work for now. Your choices for SQLite are: \n",
    "- INTEGER (a whole number), \n",
    "- TEXT (character text), \n",
    "- REAL (numbers with decimals, like a float),\n",
    "- BLOB (any binary large object, like a .jpg)\n"
   ]
  },
  {
   "cell_type": "code",
   "execution_count": 1,
   "id": "9dcf2e43-bc75-4def-8ece-3e6ed00f4fd2",
   "metadata": {},
   "outputs": [],
   "source": [
    "# This will create a local database called database.db\n",
    "# The database with have a table called app_data with \n",
    "# two columns: name and age\n",
    "import sqlite3\n",
    "sql_connect = sqlite3.connect('database.db')\n",
    "cur = sql_connect.cursor() # creates a cursor object \n",
    "\n",
    "cur.execute('''CREATE TABLE IF NOT EXISTS app_data (\n",
    "name TEXT,\n",
    "age INTEGER\n",
    ")\n",
    "''')\n",
    "sql_connect.commit()"
   ]
  },
  {
   "attachments": {},
   "cell_type": "markdown",
   "id": "5c824c9f-d2df-48ee-b6e8-bb37cfda2fba",
   "metadata": {},
   "source": [
    "## tkinter\n",
    "tkinter is a widely used module that will help us build a graphical user interface (GUI). There are many things we can do with tkinter, but we'll use some of the most common \"widgets\" of tkinter. These are modular pieces that we can put together to make an app! A widget is basically an object formed using a Class.\n",
    "\n",
    "**YOU MUST have a desktop environment for the rest of this activity to work!**"
   ]
  },
  {
   "cell_type": "code",
   "execution_count": 2,
   "id": "e283efb8-b154-4560-a36a-f14228ebfd68",
   "metadata": {},
   "outputs": [],
   "source": [
    "import tkinter as tk\n",
    "from tkinter import ttk\n",
    "# don't forget to run this code in a DESKTOP environment!"
   ]
  },
  {
   "cell_type": "code",
   "execution_count": 3,
   "id": "a8211f62-5a2f-4366-ac89-41c199a72eb7",
   "metadata": {},
   "outputs": [],
   "source": [
    "main = tk.Tk() #this makes a plain window\n",
    "main.mainloop() \n"
   ]
  },
  {
   "cell_type": "code",
   "execution_count": 4,
   "id": "cff52d6a-6239-4a05-86dc-1fd42231bc13",
   "metadata": {},
   "outputs": [],
   "source": [
    "# Label class\n",
    "main = tk.Tk() #this makes a plain window\n",
    "# Let's add a label to our plain window\n",
    "label = tk.Label(main, text=\"Hello there!\") \n",
    "label.pack() # use pack() to \"pack\" the widgets together :)\n",
    "main.mainloop()"
   ]
  },
  {
   "cell_type": "code",
   "execution_count": 5,
   "id": "206411af-068b-477e-a1db-7cff7d74cf05",
   "metadata": {},
   "outputs": [],
   "source": [
    "#Button class\n",
    "main = tk.Tk() \n",
    "label = tk.Label(main, text=\"Hello there!\")\n",
    "button = tk.Button(main, text=\"This is a button!\", \n",
    "    command = main.destroy) #this function closes the windows after pressing the button\n",
    "label.pack()\n",
    "button.pack() #don't forget to pack the button after you're done :)\n",
    "main.mainloop()"
   ]
  },
  {
   "cell_type": "code",
   "execution_count": 5,
   "id": "dcbe0d84-967f-4fb5-8d73-0bb9566c7fe8",
   "metadata": {},
   "outputs": [],
   "source": [
    "#Additional options\n",
    "main = tk.Tk() \n",
    "label = tk.Label(main, text=\"Hello there!\",\n",
    "                 font=('helvetica',25,'bold'))\n",
    "button = tk.Button(main,\n",
    "    text=\"Click me!\",\n",
    "    width=25,\n",
    "    height=5,\n",
    "    bg=\"blue\",\n",
    "    fg=\"yellow\",\n",
    "    font=('calibre',16,'normal'),\n",
    "    command = main.destroy # You can add any custom function here!\n",
    ")\n",
    "label.pack()\n",
    "button.pack()\n",
    "main.mainloop()"
   ]
  },
  {
   "cell_type": "code",
   "execution_count": 6,
   "id": "efa0d200-6a4b-4daa-b425-761127ebf565",
   "metadata": {},
   "outputs": [
    {
     "name": "stdout",
     "output_type": "stream",
     "text": [
      "Name is: hey\n",
      "Age is: 0\n"
     ]
    }
   ],
   "source": [
    "#Entry classes\n",
    "main = tk.Tk() #this makes a plain window\n",
    "label_name = tk.Label(main, text=\"What is your name?\",\n",
    "                 font=('helvetica',14,'bold'))\n",
    "\n",
    "name_var = tk.StringVar() #declares a string variable\n",
    "age_var = tk.IntVar() #declares an integer variable\n",
    "\n",
    "name_entry = tk.Entry(main, \n",
    "    textvariable = name_var, \n",
    "    font=('calibre',14,'normal'))\n",
    "\n",
    "label_age = tk.Label(main, text=\"What is your age?\",\n",
    "                 font=('helvetica',14,'bold'))\n",
    "\n",
    "age_entry = tk.Entry(main,\n",
    "    textvariable = age_var,\n",
    "    font=('calibre',14,'normal'))                    \n",
    "\n",
    "def getName():\n",
    "    #Gets the name and age data\n",
    "    name = name_var.get()\n",
    "    age = int(age_var.get())\n",
    "    \n",
    "    #What do you want to do with the name and age data?\n",
    "    #Let's just print to screen\n",
    "    print(\"Name is:\", name)\n",
    "    print(\"Age is:\", age)\n",
    "    \n",
    "    #Clear the name and age\n",
    "    name_var.set(\"\")\n",
    "    age_var.set(\"\")\n",
    "    main.destroy()\n",
    "\n",
    "    \n",
    "    \n",
    "submit_button = tk.Button(main,\n",
    "    text=\"Submit\",\n",
    "    font=('calibre',14,'normal'),\n",
    "    command = getName #we are using our custom function getName()\n",
    ")\n",
    "label_name.pack()\n",
    "name_entry.pack()\n",
    "label_age.pack()\n",
    "age_entry.pack()\n",
    "submit_button.pack()\n",
    "main.mainloop()\n"
   ]
  },
  {
   "cell_type": "code",
   "execution_count": 7,
   "id": "13c4bf53-bcc1-4f19-8108-a37ff9e8db6b",
   "metadata": {},
   "outputs": [],
   "source": [
    "#Entry classes\n",
    "main = tk.Tk() #this makes a plain window\n",
    "label_name = tk.Label(main, text=\"What is your name?\",\n",
    "                 font=('helvetica',14,'bold'))\n",
    "\n",
    "name_var = tk.StringVar() #declares a string variable\n",
    "age_var = tk.IntVar() #declares an integer variable\n",
    "\n",
    "name_entry = tk.Entry(main, \n",
    "    textvariable = name_var, \n",
    "    font=('calibre',14,'normal'))\n",
    "\n",
    "label_age = tk.Label(main, text=\"What is your age?\",\n",
    "                 font=('helvetica',14,'bold'))\n",
    "\n",
    "age_entry = tk.Entry(main,\n",
    "    textvariable = age_var,\n",
    "    font=('calibre',14,'normal'))                    \n",
    "\n",
    "def getName():\n",
    "    #Gets the name and age data\n",
    "    name = name_var.get()\n",
    "    age = age_var.get()\n",
    "    \n",
    "    #What do you want to do with the name and age data?\n",
    "    #Save your data to your database\n",
    "    cur.execute(\"INSERT INTO app_data (name,age) VALUES (?,?)\",\n",
    "                (name,age))\n",
    "    sql_connect.commit()\n",
    "    \n",
    "    #Clear the name and age\n",
    "    name_var.set(\"\")\n",
    "    age_var.set(\"\")\n",
    "    main.destroy()\n",
    "\n",
    "    \n",
    "    \n",
    "submit_button = tk.Button(main,\n",
    "    text=\"Submit\",\n",
    "    font=('calibre',14,'normal'),\n",
    "    command = getName)\n",
    "label_name.pack()\n",
    "name_entry.pack()\n",
    "label_age.pack()\n",
    "age_entry.pack()\n",
    "submit_button.pack()\n",
    "main.mainloop()\n",
    "\n"
   ]
  },
  {
   "cell_type": "code",
   "execution_count": 9,
   "id": "a767aaac-05e9-4265-8b3c-ff1c041e479b",
   "metadata": {
    "tags": []
   },
   "outputs": [
    {
     "name": "stdout",
     "output_type": "stream",
     "text": [
      "Collecting pandas\n",
      "  Downloading pandas-1.5.1-cp39-cp39-manylinux_2_17_x86_64.manylinux2014_x86_64.whl (12.2 MB)\n",
      "\u001b[2K     \u001b[38;2;114;156;31m━━━━━━━━━━━━━━━━━━━━━━━━━━━━━━━━━━━━━━━━\u001b[0m \u001b[32m12.2/12.2 MB\u001b[0m \u001b[31m19.1 MB/s\u001b[0m eta \u001b[36m0:00:00\u001b[0mm eta \u001b[36m0:00:01\u001b[0m0:01\u001b[0m\n",
      "\u001b[?25hRequirement already satisfied: pytz>=2020.1 in /opt/conda/lib/python3.9/site-packages (from pandas) (2022.1)\n",
      "Requirement already satisfied: numpy>=1.20.3 in /opt/conda/lib/python3.9/site-packages (from pandas) (1.22.3)\n",
      "Requirement already satisfied: python-dateutil>=2.8.1 in /opt/conda/lib/python3.9/site-packages (from pandas) (2.8.2)\n",
      "Requirement already satisfied: six>=1.5 in /opt/conda/lib/python3.9/site-packages (from python-dateutil>=2.8.1->pandas) (1.16.0)\n",
      "Installing collected packages: pandas\n",
      "Successfully installed pandas-1.5.1\n"
     ]
    }
   ],
   "source": [
    "!pip install pandas #if you don't have pandas installed"
   ]
  },
  {
   "cell_type": "code",
   "execution_count": 10,
   "id": "209c621c-3eda-43be-8b37-847eb254fb39",
   "metadata": {},
   "outputs": [
    {
     "data": {
      "text/html": [
       "<div>\n",
       "<style scoped>\n",
       "    .dataframe tbody tr th:only-of-type {\n",
       "        vertical-align: middle;\n",
       "    }\n",
       "\n",
       "    .dataframe tbody tr th {\n",
       "        vertical-align: top;\n",
       "    }\n",
       "\n",
       "    .dataframe thead th {\n",
       "        text-align: right;\n",
       "    }\n",
       "</style>\n",
       "<table border=\"1\" class=\"dataframe\">\n",
       "  <thead>\n",
       "    <tr style=\"text-align: right;\">\n",
       "      <th></th>\n",
       "      <th>name</th>\n",
       "      <th>age</th>\n",
       "    </tr>\n",
       "  </thead>\n",
       "  <tbody>\n",
       "    <tr>\n",
       "      <th>0</th>\n",
       "      <td>asdaf asfadf</td>\n",
       "      <td>999</td>\n",
       "    </tr>\n",
       "    <tr>\n",
       "      <th>1</th>\n",
       "      <td>none of ur business</td>\n",
       "      <td>1000000</td>\n",
       "    </tr>\n",
       "    <tr>\n",
       "      <th>2</th>\n",
       "      <td>hey there</td>\n",
       "      <td>99</td>\n",
       "    </tr>\n",
       "  </tbody>\n",
       "</table>\n",
       "</div>"
      ],
      "text/plain": [
       "                  name      age\n",
       "0         asdaf asfadf      999\n",
       "1  none of ur business  1000000\n",
       "2            hey there       99"
      ]
     },
     "execution_count": 10,
     "metadata": {},
     "output_type": "execute_result"
    }
   ],
   "source": [
    "# Did it work?\n",
    "import pandas as pd\n",
    "pd.read_sql_query('''\n",
    "    SELECT * FROM app_data;\n",
    "    ''', sql_connect)\n"
   ]
  },
  {
   "cell_type": "code",
   "execution_count": 11,
   "id": "56064cc9-2318-4770-8619-6aadbca61375",
   "metadata": {},
   "outputs": [],
   "source": [
    "#Combobox class with popup window\n",
    "window = tk.Tk()\n",
    "window.title(\"Food Selector\")\n",
    "food = tk.StringVar()\n",
    "food_pick = ttk.Combobox(window, width = 27, textvariable = food)\n",
    "# Adding combobox drop down list\n",
    "food_pick['values'] = ('Not hungry', \n",
    "                          'Pizza',\n",
    "                          'Quesabirria',\n",
    "                          'Hamburger',\n",
    "                          'Tofu Curry',\n",
    "                          'Fried Rice',\n",
    "                          'Meat Pie',\n",
    "                          'Sandwich',\n",
    "                          'Something else')\n",
    "\n",
    "\n",
    "def getFood():\n",
    "    #Gets the name and age data\n",
    "    food = \"You selected: \" + food_pick.get()\n",
    "    popup = tk.Toplevel(window)\n",
    "    popup.title(\"Popup Window!\")\n",
    "    popup_label = tk.Label(popup, text=food, font=('calibre',14,'normal'))\n",
    "    popup_label.pack()\n",
    "    \n",
    "    \n",
    "submit_button = tk.Button(window,\n",
    "    text=\"Submit\",\n",
    "    font=('calibre',14,'normal'),\n",
    "    command = getFood)\n",
    "\n",
    "food_pick.pack()\n",
    "submit_button.pack()\n",
    "\n",
    "\n",
    "food_pick.current(0)\n",
    "window.mainloop()\n"
   ]
  },
  {
   "attachments": {},
   "cell_type": "markdown",
   "id": "86c10136-b7ae-463b-b9f5-068495b459a4",
   "metadata": {},
   "source": [
    "# Activity"
   ]
  },
  {
   "cell_type": "code",
   "execution_count": null,
   "id": "d64201ef-1fe3-4202-bb8f-0fe48802035a",
   "metadata": {},
   "outputs": [],
   "source": [
    "# Create a small app using tkinter! Here's some ideas..\n",
    "#a. Asks for user information for some use case\n",
    "     #here's an example.. please non-malicious apps only lol\n",
    "tk.Label(text=\"Your antivirus has expird. Enter payment information to updtae .\")\n",
    "#b. Mutiple buttons which do different tasks (be creative!)\n",
    "#c. A combobox that does a popup window\n",
    "#d. Something else (keep it basic, more advanced app is your Project!)"
   ]
  },
  {
   "cell_type": "code",
   "execution_count": 3,
   "id": "62ad363f",
   "metadata": {},
   "outputs": [
    {
     "ename": "ModuleNotFoundError",
     "evalue": "No module named '_tkinter'",
     "output_type": "error",
     "traceback": [
      "\u001b[0;31m---------------------------------------------------------------------------\u001b[0m",
      "\u001b[0;31mModuleNotFoundError\u001b[0m                       Traceback (most recent call last)",
      "Cell \u001b[0;32mIn[3], line 1\u001b[0m\n\u001b[0;32m----> 1\u001b[0m \u001b[39mimport\u001b[39;00m \u001b[39mtkinter\u001b[39;00m \u001b[39mas\u001b[39;00m \u001b[39mtk\u001b[39;00m\n\u001b[1;32m      2\u001b[0m \u001b[39mfrom\u001b[39;00m \u001b[39mtkinter\u001b[39;00m \u001b[39mimport\u001b[39;00m messagebox\n\u001b[1;32m      3\u001b[0m \u001b[39mfrom\u001b[39;00m \u001b[39mtkinter\u001b[39;00m \u001b[39mimport\u001b[39;00m filedialog\n",
      "File \u001b[0;32m/opt/homebrew/Cellar/python@3.11/3.11.3/Frameworks/Python.framework/Versions/3.11/lib/python3.11/tkinter/__init__.py:38\u001b[0m\n\u001b[1;32m     35\u001b[0m \u001b[39mimport\u001b[39;00m \u001b[39msys\u001b[39;00m\n\u001b[1;32m     36\u001b[0m \u001b[39mimport\u001b[39;00m \u001b[39mtypes\u001b[39;00m\n\u001b[0;32m---> 38\u001b[0m \u001b[39mimport\u001b[39;00m \u001b[39m_tkinter\u001b[39;00m \u001b[39m# If this fails your Python may not be configured for Tk\u001b[39;00m\n\u001b[1;32m     39\u001b[0m TclError \u001b[39m=\u001b[39m _tkinter\u001b[39m.\u001b[39mTclError\n\u001b[1;32m     40\u001b[0m \u001b[39mfrom\u001b[39;00m \u001b[39mtkinter\u001b[39;00m\u001b[39m.\u001b[39;00m\u001b[39mconstants\u001b[39;00m \u001b[39mimport\u001b[39;00m \u001b[39m*\u001b[39m\n",
      "\u001b[0;31mModuleNotFoundError\u001b[0m: No module named '_tkinter'"
     ]
    }
   ],
   "source": [
    "import tkinter as tk\n",
    "from tkinter import messagebox\n",
    "from tkinter import filedialog\n",
    "from tkinter import ttk\n",
    "\n",
    "class VirtualPetApp:\n",
    "    def __init__(self, root):\n",
    "        self.root = root\n",
    "        self.root.title(\"Virtual Pet App\")\n",
    "\n",
    "        # Create a label and entry for pet name\n",
    "        name_label = tk.Label(root, text=\"Enter pet name:\")\n",
    "        name_label.pack()\n",
    "        self.name_entry = tk.Entry(root)\n",
    "        self.name_entry.pack()\n",
    "\n",
    "        # Create buttons for attributes\n",
    "        attributes_frame = tk.Frame(root)\n",
    "        attributes_frame.pack()\n",
    "\n",
    "        attributes = [\"Strength\", \"Charisma\", \"Intelligence\", \"Skill\", \"Luck\"]\n",
    "        self.attribute_values = {attr: 0 for attr in attributes}\n",
    "\n",
    "        for attr in attributes:\n",
    "            button = tk.Button(attributes_frame, text=attr, command=lambda attr=attr: self.add_attribute(attr))\n",
    "            button.pack(side=\"left\")\n",
    "\n",
    "        # Create a combobox for pet weight\n",
    "        weight_frame = tk.Frame(root)\n",
    "        weight_frame.pack()\n",
    "\n",
    "        weight_label = tk.Label(weight_frame, text=\"Choose pet weight:\")\n",
    "        weight_label.pack(side=\"left\")\n",
    "\n",
    "        weights = [str(i) for i in range(7, 14)]\n",
    "        self.weight_combobox = ttk.Combobox(weight_frame, values=weights)\n",
    "        self.weight_combobox.pack(side=\"left\")\n",
    "\n",
    "        # Create a button to upload pet image\n",
    "        image_button = tk.Button(root, text=\"Upload Pet Image\", command=self.upload_image)\n",
    "        image_button.pack()\n",
    "\n",
    "        # Create a button to create the pet\n",
    "        create_button = tk.Button(root, text=\"Create Pet\", command=self.create_pet)\n",
    "        create_button.pack()\n",
    "\n",
    "    def add_attribute(self, attribute):\n",
    "        self.attribute_values[attribute] += 1\n",
    "        messagebox.showinfo(\"Attribute Added\", f\"{attribute} increased by 1.\")\n",
    "\n",
    "    def upload_image(self):\n",
    "        filepath = filedialog.askopenfilename(filetypes=[(\"Image files\", \"*.png;*.jpg;*.jpeg\")])\n",
    "        if filepath:\n",
    "            messagebox.showinfo(\"Image Uploaded\", f\"Image uploaded: {filepath}\")\n",
    "\n",
    "    def create_pet(self):\n",
    "        pet_name = self.name_entry.get()\n",
    "        if not pet_name:\n",
    "            messagebox.showwarning(\"Missing Pet Name\", \"Please enter a name for your pet.\")\n",
    "            return\n",
    "\n",
    "        pet_weight = self.weight_combobox.get()\n",
    "        if not pet_weight:\n",
    "            messagebox.showwarning(\"Missing Pet Weight\", \"Please choose a weight for your pet.\")\n",
    "            return\n",
    "\n",
    "        messagebox.showinfo(\"Pet Created\", f\"Congratulations! Your pet '{pet_name}' has been created with the following attributes:\\n\\n\"\n",
    "                                            f\"Name: {pet_name}\\n\"\n",
    "                                            f\"Strength: {self.attribute_values['Strength']}\\n\"\n",
    "                                            f\"Charisma: {self.attribute_values['Charisma']}\\n\"\n",
    "                                            f\"Intelligence: {self.attribute_values['Intelligence']}\\n\"\n",
    "                                            f\"Skill: {self.attribute_values['Skill']}\\n\"\n",
    "                                            f\"Luck: {self.attribute_values['Luck']}\\n\"\n",
    "                                            f\"Weight: {pet_weight}\")\n",
    "\n",
    "root = tk.Tk()\n",
    "app = VirtualPetApp(root)\n",
    "root.mainloop()"
   ]
  },
  {
   "attachments": {},
   "cell_type": "markdown",
   "id": "0c9579a0-fcd2-4bdc-8ec5-fe8b0364dac0",
   "metadata": {},
   "source": [
    "References\n",
    "- https://realpython.com/python-gui-tkinter/\n",
    "- https://www.geeksforgeeks.org/python-tkinter-tutorial/\n",
    "\n",
    "Copyright Benjamin J. Becerra 2022.10.23.01"
   ]
  }
 ],
 "metadata": {
  "kernelspec": {
   "display_name": "Python 3 (ipykernel)",
   "language": "python",
   "name": "python3"
  },
  "language_info": {
   "codemirror_mode": {
    "name": "ipython",
    "version": 3
   },
   "file_extension": ".py",
   "mimetype": "text/x-python",
   "name": "python",
   "nbconvert_exporter": "python",
   "pygments_lexer": "ipython3",
   "version": "3.11.3"
  }
 },
 "nbformat": 4,
 "nbformat_minor": 5
}
