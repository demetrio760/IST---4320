{
 "cells": [
  {
   "cell_type": "markdown",
   "id": "01c2b5d7-a197-46f8-b276-503d84467784",
   "metadata": {},
   "source": [
    "Lab 03 - [Demetrio] [Marruffo]"
   ]
  },
  {
   "cell_type": "markdown",
   "id": "23bd8d3a-d11f-42bb-b6b9-d1e6343056e4",
   "metadata": {},
   "source": [
    "Date - [Feb] [17] 2023"
   ]
  },
  {
   "cell_type": "markdown",
   "id": "6da411ee-035e-4a23-8b5c-981165a40494",
   "metadata": {},
   "source": [
    "Howdy hey coyotays!\n",
    "\n",
    "The goal with this lab is to learn how to identify when and how to implement what we've been practicing up uuntil this point: Strings, functions, manipulating strings, arrays/lists, and loops."
   ]
  },
  {
   "cell_type": "markdown",
   "id": "34a34cc2-616b-4d66-82cb-1bc566c0f79c",
   "metadata": {},
   "source": [
    "Sometimes long words like \"supercalifragilisticexpialidocious\" are tiresome to write multiple times in a text. "
   ]
  },
  {
   "cell_type": "markdown",
   "id": "b273d54b-fd67-473d-b2a8-31d33343bd68",
   "metadata": {},
   "source": [
    "We will consider a word too long if its more than 10 characters. We will replace these words with an abbreviation."
   ]
  },
  {
   "cell_type": "markdown",
   "id": "98048c92-f177-492a-ac5a-6513882bb23d",
   "metadata": {},
   "source": [
    "The abbreviation will be as follows:\n",
    "\n",
    "First character of word, number of characters between the first and last characters, and the last charater of the word. \n",
    "\n",
    "Example:\n",
    "Given the word supercalifragilisticexpialidocious, the abbreviation should be:\n",
    "s32s\n",
    "\n",
    "We see that the first character of the word is \"s\", the last character is \"s\" and the number of characters between those two are 32."
   ]
  },
  {
   "cell_type": "markdown",
   "id": "59e3a15c-5156-4dd0-b49e-21269c7b5fea",
   "metadata": {},
   "source": [
    "Your task is to create a function that will automatically abbreviate words that are too long, leaving other words that are 10 characters or less unchanged. Make sure to print out all words changed or unchanged.\n",
    "\n",
    "Your code should take multiple user inputs (give the user the option to keep entering words)\n",
    "\n",
    "Hint: Your function should take in the number of elements in the list and the list itself as parameters."
   ]
  },
  {
   "cell_type": "code",
   "execution_count": 11,
   "id": "767dd68d-76b9-4b29-a21b-3ca5e73406a6",
   "metadata": {},
   "outputs": [],
   "source": [
    "def inputWords():\n",
    "    word = input(\"Enter a word: \")\n",
    "    if len(word) > 10:\n",
    "        first_char = word[0]\n",
    "        last_char = word[-1]\n",
    "        num_between = len(word) - 2\n",
    "        return f\"First character: {first_char}, Number of characters between first and last: {num_between}, Last character: {last_char}\"\n",
    "    else:\n",
    "        return f\"The input word '{word}' is less than 10 characters\"\n",
    "\n",
    "result = inputWords()\n",
    "print(result)"
   ]
  }
 ],
 "metadata": {
  "kernelspec": {
   "display_name": "Python 3 (ipykernel)",
   "language": "python",
   "name": "python3"
  },
  "language_info": {
   "codemirror_mode": {
    "name": "ipython",
    "version": 3
   },
   "file_extension": ".py",
   "mimetype": "text/x-python",
   "name": "python",
   "nbconvert_exporter": "python",
   "pygments_lexer": "ipython3",
   "version": "3.9.12"
  }
 },
 "nbformat": 4,
 "nbformat_minor": 5
}
