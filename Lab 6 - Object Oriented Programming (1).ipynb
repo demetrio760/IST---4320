{
 "cells": [
  {
   "cell_type": "markdown",
   "id": "3bc3bb80-3b27-4b8e-9e36-846774bfda70",
   "metadata": {},
   "source": [
    "Lab xx - [Demetrio] [Marruffo]"
   ]
  },
  {
   "cell_type": "markdown",
   "id": "7629ee4c-3e5c-4c1c-8e1c-267faa718414",
   "metadata": {},
   "source": [
    "Date - [May] [8th] 2023"
   ]
  },
  {
   "cell_type": "markdown",
   "id": "2d24b8b8-76e9-4cf8-a71f-3cfae0725071",
   "metadata": {},
   "source": [
    "The goal of this lab is to implement basic concepts of Object Oriented Programming to keep records of students in a class. \n",
    "\n",
    "1. Create a student class with attributes name, grade and weekly_attendance (Weekly attendance is a numeric value for the number of times a student has attended class that week)\n",
    "2. Create a function that allows the useer to create a new student and add their information to the class records\n",
    "3. Use this function to create 5 new students"
   ]
  },
  {
   "cell_type": "code",
   "execution_count": 7,
   "id": "6991954a-4ddd-4ad5-a4d1-5f2a1e859253",
   "metadata": {},
   "outputs": [],
   "source": [
    "class Student:\n",
    "    def __init__(self, name, grade, weekly_attendance):\n",
    "        self.name = name\n",
    "        self.grade = grade\n",
    "        self.weekly_attendance = weekly_attendance\n",
    "\n",
    "    def __str__(self):\n",
    "        return f\"Name: {self.name}, Grade: {self.grade}, Weekly Attendance: {self.weekly_attendance}\"\n",
    "\n",
    "    @classmethod\n",
    "    def create_new_student(cls):\n",
    "        name = input(\"Enter student name: \")\n",
    "        grade = input(\"Enter student grade: \")\n",
    "        weekly_attendance = input(\"Enter student weekly attendance: \")\n",
    "        return cls(name, grade, weekly_attendance)\n",
    "\n",
    "\n",
    "# Create five new students\n",
    "students = []\n",
    "for _ in range(5):\n",
    "    student = Student.create_new_student()\n",
    "    students.append(student)\n",
    "\n",
    "# Print the details of the students\n",
    "for student in students:\n",
    "    print(student)\n"
   ]
  }
 ],
 "metadata": {
  "kernelspec": {
   "display_name": "Python 3 (ipykernel)",
   "language": "python",
   "name": "python3"
  },
  "language_info": {
   "codemirror_mode": {
    "name": "ipython",
    "version": 3
   },
   "file_extension": ".py",
   "mimetype": "text/x-python",
   "name": "python",
   "nbconvert_exporter": "python",
   "pygments_lexer": "ipython3",
   "version": "3.9.12"
  }
 },
 "nbformat": 4,
 "nbformat_minor": 5
}
